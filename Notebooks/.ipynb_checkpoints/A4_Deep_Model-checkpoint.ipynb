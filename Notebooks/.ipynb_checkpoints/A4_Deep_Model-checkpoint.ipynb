{
 "cells": [
  {
   "cell_type": "markdown",
   "metadata": {},
   "source": [
    "### Deep Model\n",
    "\n",
    "In this notebook, we implement a deep NN model using keras library. This gives us the opportunity to customize our algorithm. For example, we consider the embedding layer in our architecture, even though we shoud not see its effect due to small size of dataset."
   ]
  },
  {
   "cell_type": "code",
   "execution_count": 1,
   "metadata": {},
   "outputs": [
    {
     "name": "stderr",
     "output_type": "stream",
     "text": [
      "/Users/aravanshad/miniconda2/envs/deeplearning/lib/python3.6/site-packages/h5py/__init__.py:72: UserWarning: h5py is running against HDF5 1.10.1 when it was built against 1.8.4, this may cause problems\n",
      "  '{0}.{1}.{2}'.format(*version.hdf5_built_version_tuple)\n",
      "Using TensorFlow backend.\n"
     ]
    }
   ],
   "source": [
    "from numpy.random import seed\n",
    "seed(12)\n",
    "from tensorflow import set_random_seed\n",
    "set_random_seed(13)\n",
    "\n",
    "import numpy as np\n",
    "import pandas as pd\n",
    "from pandas import DatetimeIndex\n",
    "import matplotlib\n",
    "import matplotlib.pyplot as plt\n",
    "import operator, os, pickle\n",
    "\n",
    "import tensorflow as tf\n",
    "import keras\n",
    "from keras import initializers\n",
    "from keras.optimizers import SGD\n",
    "from keras import backend as K\n",
    "from keras.models import Model\n",
    "from keras.layers import Input, Dense, Flatten, Embedding, concatenate, merge, Dropout, BatchNormalization\n",
    "from keras.models import Model\n",
    "from keras.utils import np_utils\n",
    "from keras.utils.vis_utils import plot_model\n",
    "from sklearn_pandas import DataFrameMapper\n",
    "from sklearn.preprocessing import LabelEncoder, Imputer, StandardScaler\n",
    "from sklearn.metrics import accuracy_score, f1_score"
   ]
  },
  {
   "cell_type": "code",
   "execution_count": 2,
   "metadata": {},
   "outputs": [],
   "source": [
    "# load train dataset\n",
    "ticker = 'APC'\n",
    "\n",
    "f = open('../Data/deep_data.pickle', \"rb\")\n",
    "X1 = pickle.load(f)\n",
    "y1 = pickle.load(f)\n",
    "df1 = pickle.load(f)\n",
    "f.close()"
   ]
  },
  {
   "cell_type": "code",
   "execution_count": 3,
   "metadata": {},
   "outputs": [
    {
     "data": {
      "text/html": [
       "<div>\n",
       "<style scoped>\n",
       "    .dataframe tbody tr th:only-of-type {\n",
       "        vertical-align: middle;\n",
       "    }\n",
       "\n",
       "    .dataframe tbody tr th {\n",
       "        vertical-align: top;\n",
       "    }\n",
       "\n",
       "    .dataframe thead th {\n",
       "        text-align: right;\n",
       "    }\n",
       "</style>\n",
       "<table border=\"1\" class=\"dataframe\">\n",
       "  <thead>\n",
       "    <tr style=\"text-align: right;\">\n",
       "      <th></th>\n",
       "      <th>APA</th>\n",
       "      <th>APC</th>\n",
       "      <th>CHK</th>\n",
       "      <th>CNX</th>\n",
       "      <th>COG</th>\n",
       "      <th>COP</th>\n",
       "      <th>CVX</th>\n",
       "      <th>DNR</th>\n",
       "      <th>DO</th>\n",
       "      <th>DVN</th>\n",
       "      <th>...</th>\n",
       "      <th>aroon_up</th>\n",
       "      <th>aroon_down</th>\n",
       "      <th>upper_bb</th>\n",
       "      <th>middle_bb</th>\n",
       "      <th>lower_bb</th>\n",
       "      <th>chaikin_money_flow</th>\n",
       "      <th>macd</th>\n",
       "      <th>cci</th>\n",
       "      <th>momentum</th>\n",
       "      <th>volatility</th>\n",
       "    </tr>\n",
       "    <tr>\n",
       "      <th>Date_Time</th>\n",
       "      <th></th>\n",
       "      <th></th>\n",
       "      <th></th>\n",
       "      <th></th>\n",
       "      <th></th>\n",
       "      <th></th>\n",
       "      <th></th>\n",
       "      <th></th>\n",
       "      <th></th>\n",
       "      <th></th>\n",
       "      <th></th>\n",
       "      <th></th>\n",
       "      <th></th>\n",
       "      <th></th>\n",
       "      <th></th>\n",
       "      <th></th>\n",
       "      <th></th>\n",
       "      <th></th>\n",
       "      <th></th>\n",
       "      <th></th>\n",
       "      <th></th>\n",
       "    </tr>\n",
       "  </thead>\n",
       "  <tbody>\n",
       "    <tr>\n",
       "      <th>2017-06-06 13:42:00</th>\n",
       "      <td>0.0</td>\n",
       "      <td>0.000000</td>\n",
       "      <td>0.0</td>\n",
       "      <td>0.000000</td>\n",
       "      <td>0.000000</td>\n",
       "      <td>0.0</td>\n",
       "      <td>0.000000</td>\n",
       "      <td>0.0</td>\n",
       "      <td>0.000000</td>\n",
       "      <td>0.000000</td>\n",
       "      <td>...</td>\n",
       "      <td>1.0</td>\n",
       "      <td>0.6</td>\n",
       "      <td>0.737958</td>\n",
       "      <td>0.736249</td>\n",
       "      <td>0.733738</td>\n",
       "      <td>0.055567</td>\n",
       "      <td>-0.209084</td>\n",
       "      <td>0.231350</td>\n",
       "      <td>0.005714</td>\n",
       "      <td>-0.799707</td>\n",
       "    </tr>\n",
       "    <tr>\n",
       "      <th>2017-06-06 13:43:00</th>\n",
       "      <td>0.0</td>\n",
       "      <td>-0.000809</td>\n",
       "      <td>0.0</td>\n",
       "      <td>-0.003539</td>\n",
       "      <td>0.000918</td>\n",
       "      <td>0.0</td>\n",
       "      <td>-0.000097</td>\n",
       "      <td>0.0</td>\n",
       "      <td>-0.004325</td>\n",
       "      <td>0.000304</td>\n",
       "      <td>...</td>\n",
       "      <td>0.6</td>\n",
       "      <td>0.2</td>\n",
       "      <td>0.737958</td>\n",
       "      <td>0.736249</td>\n",
       "      <td>0.733738</td>\n",
       "      <td>0.093777</td>\n",
       "      <td>-0.156696</td>\n",
       "      <td>0.225685</td>\n",
       "      <td>0.017143</td>\n",
       "      <td>-0.799707</td>\n",
       "    </tr>\n",
       "  </tbody>\n",
       "</table>\n",
       "<p>2 rows × 39 columns</p>\n",
       "</div>"
      ],
      "text/plain": [
       "                     APA       APC  CHK       CNX       COG  COP       CVX  \\\n",
       "Date_Time                                                                    \n",
       "2017-06-06 13:42:00  0.0  0.000000  0.0  0.000000  0.000000  0.0  0.000000   \n",
       "2017-06-06 13:43:00  0.0 -0.000809  0.0 -0.003539  0.000918  0.0 -0.000097   \n",
       "\n",
       "                     DNR        DO       DVN     ...      aroon_up  \\\n",
       "Date_Time                                        ...                 \n",
       "2017-06-06 13:42:00  0.0  0.000000  0.000000     ...           1.0   \n",
       "2017-06-06 13:43:00  0.0 -0.004325  0.000304     ...           0.6   \n",
       "\n",
       "                     aroon_down  upper_bb  middle_bb  lower_bb  \\\n",
       "Date_Time                                                        \n",
       "2017-06-06 13:42:00         0.6  0.737958   0.736249  0.733738   \n",
       "2017-06-06 13:43:00         0.2  0.737958   0.736249  0.733738   \n",
       "\n",
       "                     chaikin_money_flow      macd       cci  momentum  \\\n",
       "Date_Time                                                               \n",
       "2017-06-06 13:42:00            0.055567 -0.209084  0.231350  0.005714   \n",
       "2017-06-06 13:43:00            0.093777 -0.156696  0.225685  0.017143   \n",
       "\n",
       "                     volatility  \n",
       "Date_Time                        \n",
       "2017-06-06 13:42:00   -0.799707  \n",
       "2017-06-06 13:43:00   -0.799707  \n",
       "\n",
       "[2 rows x 39 columns]"
      ]
     },
     "execution_count": 3,
     "metadata": {},
     "output_type": "execute_result"
    }
   ],
   "source": [
    "df1.head(n=2)"
   ]
  },
  {
   "cell_type": "code",
   "execution_count": 4,
   "metadata": {},
   "outputs": [],
   "source": [
    "# load test dataset\n",
    "f = open('../Data/deep_test_data.pickle', \"rb\")\n",
    "X2 = pickle.load(f)\n",
    "y2 = pickle.load(f)\n",
    "df2 = pickle.load(f)\n",
    "f.close()"
   ]
  },
  {
   "cell_type": "code",
   "execution_count": 5,
   "metadata": {},
   "outputs": [
    {
     "name": "stdout",
     "output_type": "stream",
     "text": [
      "['APA', 'APC', 'CHK', 'CNX', 'COG', 'COP', 'CVX', 'DNR', 'DO', 'DVN', 'EOG', 'FTI', 'HAL', 'HES', 'HP', 'KMI', 'MPC', 'MRO', 'NBL', 'NBR', 'NE', 'NFX', 'NOV', 'OXY', 'RDC', 'RRC', 'SLB', 'SWN', 'XOM', 'aroon_up', 'aroon_down', 'upper_bb', 'middle_bb', 'lower_bb', 'chaikin_money_flow', 'macd', 'cci', 'momentum', 'volatility']\n"
     ]
    }
   ],
   "source": [
    "contin_vars = df1.columns.tolist()\n",
    "print(contin_vars)"
   ]
  },
  {
   "cell_type": "markdown",
   "metadata": {},
   "source": [
    "I parse datetime to create new categorical features."
   ]
  },
  {
   "cell_type": "code",
   "execution_count": 6,
   "metadata": {},
   "outputs": [
    {
     "data": {
      "text/html": [
       "<div>\n",
       "<style scoped>\n",
       "    .dataframe tbody tr th:only-of-type {\n",
       "        vertical-align: middle;\n",
       "    }\n",
       "\n",
       "    .dataframe tbody tr th {\n",
       "        vertical-align: top;\n",
       "    }\n",
       "\n",
       "    .dataframe thead th {\n",
       "        text-align: right;\n",
       "    }\n",
       "</style>\n",
       "<table border=\"1\" class=\"dataframe\">\n",
       "  <thead>\n",
       "    <tr style=\"text-align: right;\">\n",
       "      <th></th>\n",
       "      <th>APA</th>\n",
       "      <th>APC</th>\n",
       "      <th>CHK</th>\n",
       "      <th>CNX</th>\n",
       "      <th>COG</th>\n",
       "      <th>COP</th>\n",
       "      <th>CVX</th>\n",
       "      <th>DNR</th>\n",
       "      <th>DO</th>\n",
       "      <th>DVN</th>\n",
       "      <th>...</th>\n",
       "      <th>middle_bb</th>\n",
       "      <th>lower_bb</th>\n",
       "      <th>chaikin_money_flow</th>\n",
       "      <th>macd</th>\n",
       "      <th>cci</th>\n",
       "      <th>momentum</th>\n",
       "      <th>volatility</th>\n",
       "      <th>Hour</th>\n",
       "      <th>Weekday</th>\n",
       "      <th>Week</th>\n",
       "    </tr>\n",
       "    <tr>\n",
       "      <th>Date_Time</th>\n",
       "      <th></th>\n",
       "      <th></th>\n",
       "      <th></th>\n",
       "      <th></th>\n",
       "      <th></th>\n",
       "      <th></th>\n",
       "      <th></th>\n",
       "      <th></th>\n",
       "      <th></th>\n",
       "      <th></th>\n",
       "      <th></th>\n",
       "      <th></th>\n",
       "      <th></th>\n",
       "      <th></th>\n",
       "      <th></th>\n",
       "      <th></th>\n",
       "      <th></th>\n",
       "      <th></th>\n",
       "      <th></th>\n",
       "      <th></th>\n",
       "      <th></th>\n",
       "    </tr>\n",
       "  </thead>\n",
       "  <tbody>\n",
       "    <tr>\n",
       "      <th>2017-06-06 13:42:00</th>\n",
       "      <td>0.0</td>\n",
       "      <td>0.000000</td>\n",
       "      <td>0.0</td>\n",
       "      <td>0.000000</td>\n",
       "      <td>0.000000</td>\n",
       "      <td>0.0</td>\n",
       "      <td>0.000000</td>\n",
       "      <td>0.0</td>\n",
       "      <td>0.000000</td>\n",
       "      <td>0.000000</td>\n",
       "      <td>...</td>\n",
       "      <td>0.736249</td>\n",
       "      <td>0.733738</td>\n",
       "      <td>0.055567</td>\n",
       "      <td>-0.209084</td>\n",
       "      <td>0.231350</td>\n",
       "      <td>0.005714</td>\n",
       "      <td>-0.799707</td>\n",
       "      <td>13</td>\n",
       "      <td>1</td>\n",
       "      <td>23</td>\n",
       "    </tr>\n",
       "    <tr>\n",
       "      <th>2017-06-06 13:43:00</th>\n",
       "      <td>0.0</td>\n",
       "      <td>-0.000809</td>\n",
       "      <td>0.0</td>\n",
       "      <td>-0.003539</td>\n",
       "      <td>0.000918</td>\n",
       "      <td>0.0</td>\n",
       "      <td>-0.000097</td>\n",
       "      <td>0.0</td>\n",
       "      <td>-0.004325</td>\n",
       "      <td>0.000304</td>\n",
       "      <td>...</td>\n",
       "      <td>0.736249</td>\n",
       "      <td>0.733738</td>\n",
       "      <td>0.093777</td>\n",
       "      <td>-0.156696</td>\n",
       "      <td>0.225685</td>\n",
       "      <td>0.017143</td>\n",
       "      <td>-0.799707</td>\n",
       "      <td>13</td>\n",
       "      <td>1</td>\n",
       "      <td>23</td>\n",
       "    </tr>\n",
       "  </tbody>\n",
       "</table>\n",
       "<p>2 rows × 42 columns</p>\n",
       "</div>"
      ],
      "text/plain": [
       "                     APA       APC  CHK       CNX       COG  COP       CVX  \\\n",
       "Date_Time                                                                    \n",
       "2017-06-06 13:42:00  0.0  0.000000  0.0  0.000000  0.000000  0.0  0.000000   \n",
       "2017-06-06 13:43:00  0.0 -0.000809  0.0 -0.003539  0.000918  0.0 -0.000097   \n",
       "\n",
       "                     DNR        DO       DVN  ...   middle_bb  lower_bb  \\\n",
       "Date_Time                                     ...                         \n",
       "2017-06-06 13:42:00  0.0  0.000000  0.000000  ...    0.736249  0.733738   \n",
       "2017-06-06 13:43:00  0.0 -0.004325  0.000304  ...    0.736249  0.733738   \n",
       "\n",
       "                     chaikin_money_flow      macd       cci  momentum  \\\n",
       "Date_Time                                                               \n",
       "2017-06-06 13:42:00            0.055567 -0.209084  0.231350  0.005714   \n",
       "2017-06-06 13:43:00            0.093777 -0.156696  0.225685  0.017143   \n",
       "\n",
       "                     volatility  Hour  Weekday  Week  \n",
       "Date_Time                                             \n",
       "2017-06-06 13:42:00   -0.799707    13        1    23  \n",
       "2017-06-06 13:43:00   -0.799707    13        1    23  \n",
       "\n",
       "[2 rows x 42 columns]"
      ]
     },
     "execution_count": 6,
     "metadata": {},
     "output_type": "execute_result"
    }
   ],
   "source": [
    "# extracting date features\n",
    "def date_apart(df):\n",
    "    df['Hour'] = DatetimeIndex(df.index).hour\n",
    "    df['Weekday'] = DatetimeIndex(df.index).weekday\n",
    "    df['Week'] = DatetimeIndex(df.index).week\n",
    "#     df['Min'] = DatetimeIndex(df.index).minute\n",
    "    return df\n",
    "\n",
    "cat_var_dict = {'Week': 1, 'Weekday': 2, 'Hour': 3}\n",
    "cat_vars = [o[0] for o in sorted(cat_var_dict.items(), key=operator.itemgetter(1), reverse=True)]\n",
    "df = date_apart(df1)\n",
    "df.head(n=2)"
   ]
  },
  {
   "cell_type": "code",
   "execution_count": 7,
   "metadata": {},
   "outputs": [],
   "source": [
    "# same process for test dataset\n",
    "dft = date_apart(df2)"
   ]
  },
  {
   "cell_type": "code",
   "execution_count": 8,
   "metadata": {},
   "outputs": [],
   "source": [
    "for v in cat_vars: df.loc[df[v].isnull(), v] = \"\"\n",
    "for v in contin_vars: df.loc[df[v].isnull(), v] = 0\n",
    "        \n",
    "cat_maps = [(o, LabelEncoder()) for o in cat_vars]\n",
    "contin_maps = [([o], StandardScaler()) for o in contin_vars]"
   ]
  },
  {
   "cell_type": "code",
   "execution_count": 9,
   "metadata": {},
   "outputs": [
    {
     "data": {
      "text/plain": [
       "(12008, 42)"
      ]
     },
     "execution_count": 9,
     "metadata": {},
     "output_type": "execute_result"
    }
   ],
   "source": [
    "# we need all data to map categorical features\n",
    "df_joined = pd.concat([df,dft], axis=0)\n",
    "df_joined.shape"
   ]
  },
  {
   "cell_type": "code",
   "execution_count": 10,
   "metadata": {},
   "outputs": [
    {
     "data": {
      "text/html": [
       "<div>\n",
       "<style scoped>\n",
       "    .dataframe tbody tr th:only-of-type {\n",
       "        vertical-align: middle;\n",
       "    }\n",
       "\n",
       "    .dataframe tbody tr th {\n",
       "        vertical-align: top;\n",
       "    }\n",
       "\n",
       "    .dataframe thead th {\n",
       "        text-align: right;\n",
       "    }\n",
       "</style>\n",
       "<table border=\"1\" class=\"dataframe\">\n",
       "  <thead>\n",
       "    <tr style=\"text-align: right;\">\n",
       "      <th></th>\n",
       "      <th>APA</th>\n",
       "      <th>APC</th>\n",
       "      <th>CHK</th>\n",
       "      <th>CNX</th>\n",
       "      <th>COG</th>\n",
       "      <th>COP</th>\n",
       "      <th>CVX</th>\n",
       "      <th>DNR</th>\n",
       "      <th>DO</th>\n",
       "      <th>DVN</th>\n",
       "      <th>...</th>\n",
       "      <th>middle_bb</th>\n",
       "      <th>lower_bb</th>\n",
       "      <th>chaikin_money_flow</th>\n",
       "      <th>macd</th>\n",
       "      <th>cci</th>\n",
       "      <th>momentum</th>\n",
       "      <th>volatility</th>\n",
       "      <th>Hour</th>\n",
       "      <th>Weekday</th>\n",
       "      <th>Week</th>\n",
       "    </tr>\n",
       "    <tr>\n",
       "      <th>Date_Time</th>\n",
       "      <th></th>\n",
       "      <th></th>\n",
       "      <th></th>\n",
       "      <th></th>\n",
       "      <th></th>\n",
       "      <th></th>\n",
       "      <th></th>\n",
       "      <th></th>\n",
       "      <th></th>\n",
       "      <th></th>\n",
       "      <th></th>\n",
       "      <th></th>\n",
       "      <th></th>\n",
       "      <th></th>\n",
       "      <th></th>\n",
       "      <th></th>\n",
       "      <th></th>\n",
       "      <th></th>\n",
       "      <th></th>\n",
       "      <th></th>\n",
       "      <th></th>\n",
       "    </tr>\n",
       "  </thead>\n",
       "  <tbody>\n",
       "    <tr>\n",
       "      <th>2017-06-06 13:42:00</th>\n",
       "      <td>0.0</td>\n",
       "      <td>0.000000</td>\n",
       "      <td>0.0</td>\n",
       "      <td>0.000000</td>\n",
       "      <td>0.000000</td>\n",
       "      <td>0.0</td>\n",
       "      <td>0.000000</td>\n",
       "      <td>0.0</td>\n",
       "      <td>0.000000</td>\n",
       "      <td>0.000000</td>\n",
       "      <td>...</td>\n",
       "      <td>0.736249</td>\n",
       "      <td>0.733738</td>\n",
       "      <td>0.055567</td>\n",
       "      <td>-0.209084</td>\n",
       "      <td>0.231350</td>\n",
       "      <td>0.005714</td>\n",
       "      <td>-0.799707</td>\n",
       "      <td>13</td>\n",
       "      <td>1</td>\n",
       "      <td>23</td>\n",
       "    </tr>\n",
       "    <tr>\n",
       "      <th>2017-06-06 13:43:00</th>\n",
       "      <td>0.0</td>\n",
       "      <td>-0.000809</td>\n",
       "      <td>0.0</td>\n",
       "      <td>-0.003539</td>\n",
       "      <td>0.000918</td>\n",
       "      <td>0.0</td>\n",
       "      <td>-0.000097</td>\n",
       "      <td>0.0</td>\n",
       "      <td>-0.004325</td>\n",
       "      <td>0.000304</td>\n",
       "      <td>...</td>\n",
       "      <td>0.736249</td>\n",
       "      <td>0.733738</td>\n",
       "      <td>0.093777</td>\n",
       "      <td>-0.156696</td>\n",
       "      <td>0.225685</td>\n",
       "      <td>0.017143</td>\n",
       "      <td>-0.799707</td>\n",
       "      <td>13</td>\n",
       "      <td>1</td>\n",
       "      <td>23</td>\n",
       "    </tr>\n",
       "  </tbody>\n",
       "</table>\n",
       "<p>2 rows × 42 columns</p>\n",
       "</div>"
      ],
      "text/plain": [
       "                     APA       APC  CHK       CNX       COG  COP       CVX  \\\n",
       "Date_Time                                                                    \n",
       "2017-06-06 13:42:00  0.0  0.000000  0.0  0.000000  0.000000  0.0  0.000000   \n",
       "2017-06-06 13:43:00  0.0 -0.000809  0.0 -0.003539  0.000918  0.0 -0.000097   \n",
       "\n",
       "                     DNR        DO       DVN  ...   middle_bb  lower_bb  \\\n",
       "Date_Time                                     ...                         \n",
       "2017-06-06 13:42:00  0.0  0.000000  0.000000  ...    0.736249  0.733738   \n",
       "2017-06-06 13:43:00  0.0 -0.004325  0.000304  ...    0.736249  0.733738   \n",
       "\n",
       "                     chaikin_money_flow      macd       cci  momentum  \\\n",
       "Date_Time                                                               \n",
       "2017-06-06 13:42:00            0.055567 -0.209084  0.231350  0.005714   \n",
       "2017-06-06 13:43:00            0.093777 -0.156696  0.225685  0.017143   \n",
       "\n",
       "                     volatility  Hour  Weekday  Week  \n",
       "Date_Time                                             \n",
       "2017-06-06 13:42:00   -0.799707    13        1    23  \n",
       "2017-06-06 13:43:00   -0.799707    13        1    23  \n",
       "\n",
       "[2 rows x 42 columns]"
      ]
     },
     "execution_count": 10,
     "metadata": {},
     "output_type": "execute_result"
    }
   ],
   "source": [
    "# check if everything is all right\n",
    "df_joined.head(n=2)"
   ]
  },
  {
   "cell_type": "code",
   "execution_count": 11,
   "metadata": {},
   "outputs": [
    {
     "data": {
      "text/plain": [
       "['Hour', 'Weekday', 'Week']"
      ]
     },
     "execution_count": 11,
     "metadata": {},
     "output_type": "execute_result"
    }
   ],
   "source": [
    "cat_mapper = DataFrameMapper(cat_maps)\n",
    "cat_map_fit = cat_mapper.fit(df_joined)\n",
    "cat_cols = len(cat_map_fit.features)\n",
    "cat_vars"
   ]
  },
  {
   "cell_type": "code",
   "execution_count": 12,
   "metadata": {},
   "outputs": [
    {
     "data": {
      "text/plain": [
       "array([6, 1, 0])"
      ]
     },
     "execution_count": 12,
     "metadata": {},
     "output_type": "execute_result"
    }
   ],
   "source": [
    "cat_map_fit.transform(df)[100,:5]"
   ]
  },
  {
   "cell_type": "code",
   "execution_count": 13,
   "metadata": {},
   "outputs": [
    {
     "data": {
      "text/plain": [
       "39"
      ]
     },
     "execution_count": 13,
     "metadata": {},
     "output_type": "execute_result"
    }
   ],
   "source": [
    "contin_mapper = DataFrameMapper(contin_maps)\n",
    "contin_map_fit = contin_mapper.fit(df)\n",
    "contin_cols = len(contin_map_fit.features)\n",
    "contin_cols"
   ]
  },
  {
   "cell_type": "code",
   "execution_count": 14,
   "metadata": {},
   "outputs": [],
   "source": [
    "pickle.dump(contin_map_fit, open('contin_maps.pickle', 'wb'))\n",
    "pickle.dump(cat_map_fit, open('cat_maps.pickle', 'wb'))"
   ]
  },
  {
   "cell_type": "code",
   "execution_count": 15,
   "metadata": {},
   "outputs": [
    {
     "data": {
      "text/plain": [
       "[12, 5, 7]"
      ]
     },
     "execution_count": 15,
     "metadata": {},
     "output_type": "execute_result"
    }
   ],
   "source": [
    "[len(o[1].classes_) for o in cat_map_fit.features]"
   ]
  },
  {
   "cell_type": "markdown",
   "metadata": {},
   "source": [
    "### Create Train and Validation Sets\n",
    "\n"
   ]
  },
  {
   "cell_type": "code",
   "execution_count": 16,
   "metadata": {},
   "outputs": [
    {
     "data": {
      "text/plain": [
       "10481"
      ]
     },
     "execution_count": 16,
     "metadata": {},
     "output_type": "execute_result"
    }
   ],
   "source": [
    "n = len(df)\n",
    "n"
   ]
  },
  {
   "cell_type": "code",
   "execution_count": 17,
   "metadata": {},
   "outputs": [
    {
     "data": {
      "text/plain": [
       "(8384, 2097)"
      ]
     },
     "execution_count": 17,
     "metadata": {},
     "output_type": "execute_result"
    }
   ],
   "source": [
    "# samp_size=5000 # sampling didn't improve the performance\n",
    "samp_size = n \n",
    "np.random.seed(42)\n",
    "idxs = sorted(np.random.choice(n, samp_size, replace=False))\n",
    "\n",
    "df_samp = df.iloc[idxs]\n",
    "\n",
    "train_ratio = 0.8\n",
    "train_size = int(samp_size * train_ratio)\n",
    "\n",
    "df_valid = df_samp[train_size:]\n",
    "df_train = df_samp[:train_size]\n",
    "len(df_train), len(df_valid)"
   ]
  },
  {
   "cell_type": "code",
   "execution_count": 18,
   "metadata": {},
   "outputs": [],
   "source": [
    "def cat_preproc(dat):\n",
    "    return cat_map_fit.transform(dat).astype(np.int64)"
   ]
  },
  {
   "cell_type": "code",
   "execution_count": 19,
   "metadata": {},
   "outputs": [],
   "source": [
    "cat_map_train = cat_preproc(df_train)\n",
    "cat_map_valid = cat_preproc(df_valid)"
   ]
  },
  {
   "cell_type": "code",
   "execution_count": 20,
   "metadata": {},
   "outputs": [],
   "source": [
    "def contin_preproc(dat):\n",
    "    return contin_map_fit.transform(dat).astype(np.float32)"
   ]
  },
  {
   "cell_type": "code",
   "execution_count": 21,
   "metadata": {},
   "outputs": [],
   "source": [
    "contin_map_train = contin_preproc(df_train)\n",
    "contin_map_valid = contin_preproc(df_valid)"
   ]
  },
  {
   "cell_type": "code",
   "execution_count": 22,
   "metadata": {},
   "outputs": [],
   "source": [
    "y_train_orig = y1[:train_size]\n",
    "y_valid_orig = y1[train_size:samp_size]"
   ]
  },
  {
   "cell_type": "code",
   "execution_count": 23,
   "metadata": {},
   "outputs": [],
   "source": [
    "X_tr = cat_map_train\n",
    "X_tr_list =  [X_tr[:, -3].reshape(-1, 1), X_tr[:, -2].reshape(-1, 1), \n",
    "           X_tr[:, -1].reshape(-1, 1), contin_map_train.reshape(-1, 39)]\n",
    "\n",
    "X_val = cat_map_valid\n",
    "X_val_list =  [X_val[:, -3].reshape(-1, 1), X_val[:, -2].reshape(-1, 1), \n",
    "           X_val[:, -1].reshape(-1, 1), contin_map_valid.reshape(-1, 39)]"
   ]
  },
  {
   "cell_type": "code",
   "execution_count": 24,
   "metadata": {},
   "outputs": [
    {
     "data": {
      "text/plain": [
       "4"
      ]
     },
     "execution_count": 24,
     "metadata": {},
     "output_type": "execute_result"
    }
   ],
   "source": [
    "len(X_tr_list)"
   ]
  },
  {
   "cell_type": "markdown",
   "metadata": {},
   "source": [
    "### Create Models"
   ]
  },
  {
   "cell_type": "code",
   "execution_count": 25,
   "metadata": {},
   "outputs": [],
   "source": [
    "def split_cols(arr): return np.hsplit(arr,arr.shape[1])"
   ]
  },
  {
   "cell_type": "code",
   "execution_count": 26,
   "metadata": {},
   "outputs": [],
   "source": [
    "map_train = split_cols(cat_map_train) + split_cols(contin_map_train)\n",
    "map_valid = split_cols(cat_map_valid) + split_cols(contin_map_valid)"
   ]
  },
  {
   "cell_type": "code",
   "execution_count": 27,
   "metadata": {},
   "outputs": [
    {
     "data": {
      "text/plain": [
       "42"
      ]
     },
     "execution_count": 27,
     "metadata": {},
     "output_type": "execute_result"
    }
   ],
   "source": [
    "len(map_train)"
   ]
  },
  {
   "cell_type": "code",
   "execution_count": 28,
   "metadata": {},
   "outputs": [],
   "source": [
    "def cat_map_info(feat): return feat[0], len(feat[1].classes_)"
   ]
  },
  {
   "cell_type": "code",
   "execution_count": 29,
   "metadata": {},
   "outputs": [
    {
     "data": {
      "text/plain": [
       "('Weekday', 5)"
      ]
     },
     "execution_count": 29,
     "metadata": {},
     "output_type": "execute_result"
    }
   ],
   "source": [
    "cat_map_info(cat_map_fit.features[1])"
   ]
  },
  {
   "cell_type": "code",
   "execution_count": 30,
   "metadata": {},
   "outputs": [],
   "source": [
    "def my_init(scale):\n",
    "    return lambda shape, name=None: K.random_uniform_variable(shape, low=-0.05, high=0.05, name=name)"
   ]
  },
  {
   "cell_type": "code",
   "execution_count": 31,
   "metadata": {},
   "outputs": [],
   "source": [
    "def emb_init(shape, name=None): \n",
    "    return K.random_uniform_variable(shape, low=-0.05, high=0.05, name=name)"
   ]
  },
  {
   "cell_type": "code",
   "execution_count": 32,
   "metadata": {},
   "outputs": [],
   "source": [
    "def get_emb(feat):\n",
    "    name, c = cat_map_info(feat)\n",
    "    c2 = cat_var_dict[name]\n",
    "    #c2 = (c+1)//2\n",
    "    if c2>50: c2=50\n",
    "    inp = Input((1,), dtype='int64', name=name+'_in')\n",
    "    u = Flatten(name=name+'_flt')(Embedding(c, c2, input_length=1, embeddings_initializer=emb_init)(inp))\n",
    "    return inp,u"
   ]
  },
  {
   "cell_type": "code",
   "execution_count": 33,
   "metadata": {},
   "outputs": [],
   "source": [
    "contin_inp = Input((contin_cols,), name='contin')\n",
    "contin_out = Dense(contin_cols*10, activation='relu', name='contin_d')(contin_inp)\n",
    "# contin_out = BatchNormalization()(contin_out)"
   ]
  },
  {
   "cell_type": "code",
   "execution_count": 34,
   "metadata": {},
   "outputs": [],
   "source": [
    "embs = [get_emb(feat) for feat in cat_map_fit.features]\n",
    "cat_out = concatenate([emb for inp,emb in embs], axis=1)\n",
    "x = concatenate( [contin_out, cat_out], axis=1)\n",
    "x = Dropout(0.05)(x)\n",
    "x = Dense(10, activation='relu', kernel_initializer='uniform')(x)\n",
    "x = Dense(10, activation='relu', kernel_initializer='uniform')(x)\n",
    "x = Dropout(0.4)(x)\n",
    "x = Dense(3, activation='softmax')(x)\n",
    "\n",
    "model = Model([inp for inp,emb in embs] + [contin_inp], x)\n",
    "# sgd = SGD(lr=0.1, momentum=0.01, decay=0.05, nesterov=False)\n",
    "model.compile(optimizer='adam', loss='categorical_crossentropy', metrics=['accuracy'])"
   ]
  },
  {
   "cell_type": "code",
   "execution_count": 35,
   "metadata": {},
   "outputs": [
    {
     "name": "stdout",
     "output_type": "stream",
     "text": [
      "__________________________________________________________________________________________________\n",
      "Layer (type)                    Output Shape         Param #     Connected to                     \n",
      "==================================================================================================\n",
      "Hour_in (InputLayer)            (None, 1)            0                                            \n",
      "__________________________________________________________________________________________________\n",
      "Weekday_in (InputLayer)         (None, 1)            0                                            \n",
      "__________________________________________________________________________________________________\n",
      "Week_in (InputLayer)            (None, 1)            0                                            \n",
      "__________________________________________________________________________________________________\n",
      "embedding_1 (Embedding)         (None, 1, 3)         36          Hour_in[0][0]                    \n",
      "__________________________________________________________________________________________________\n",
      "embedding_2 (Embedding)         (None, 1, 2)         10          Weekday_in[0][0]                 \n",
      "__________________________________________________________________________________________________\n",
      "embedding_3 (Embedding)         (None, 1, 1)         7           Week_in[0][0]                    \n",
      "__________________________________________________________________________________________________\n",
      "contin (InputLayer)             (None, 39)           0                                            \n",
      "__________________________________________________________________________________________________\n",
      "Hour_flt (Flatten)              (None, 3)            0           embedding_1[0][0]                \n",
      "__________________________________________________________________________________________________\n",
      "Weekday_flt (Flatten)           (None, 2)            0           embedding_2[0][0]                \n",
      "__________________________________________________________________________________________________\n",
      "Week_flt (Flatten)              (None, 1)            0           embedding_3[0][0]                \n",
      "__________________________________________________________________________________________________\n",
      "contin_d (Dense)                (None, 390)          15600       contin[0][0]                     \n",
      "__________________________________________________________________________________________________\n",
      "concatenate_1 (Concatenate)     (None, 6)            0           Hour_flt[0][0]                   \n",
      "                                                                 Weekday_flt[0][0]                \n",
      "                                                                 Week_flt[0][0]                   \n",
      "__________________________________________________________________________________________________\n",
      "concatenate_2 (Concatenate)     (None, 396)          0           contin_d[0][0]                   \n",
      "                                                                 concatenate_1[0][0]              \n",
      "__________________________________________________________________________________________________\n",
      "dropout_1 (Dropout)             (None, 396)          0           concatenate_2[0][0]              \n",
      "__________________________________________________________________________________________________\n",
      "dense_1 (Dense)                 (None, 10)           3970        dropout_1[0][0]                  \n",
      "__________________________________________________________________________________________________\n",
      "dense_2 (Dense)                 (None, 10)           110         dense_1[0][0]                    \n",
      "__________________________________________________________________________________________________\n",
      "dropout_2 (Dropout)             (None, 10)           0           dense_2[0][0]                    \n",
      "__________________________________________________________________________________________________\n",
      "dense_3 (Dense)                 (None, 3)            33          dropout_2[0][0]                  \n",
      "==================================================================================================\n",
      "Total params: 19,766\n",
      "Trainable params: 19,766\n",
      "Non-trainable params: 0\n",
      "__________________________________________________________________________________________________\n"
     ]
    }
   ],
   "source": [
    "model.summary()\n",
    "plot_model(model, to_file='../Figs/model_plot.png', show_shapes=False, show_layer_names=True)"
   ]
  },
  {
   "cell_type": "code",
   "execution_count": 36,
   "metadata": {},
   "outputs": [],
   "source": [
    "# we can play with class weights to evaluate model behavior\n",
    "class_weight = {0: 1., 1: 1., 2: 1.}"
   ]
  },
  {
   "cell_type": "code",
   "execution_count": 37,
   "metadata": {},
   "outputs": [],
   "source": [
    "def dummy_y(y):\n",
    "    # encode class values as integers\n",
    "    encoder = LabelEncoder()\n",
    "    encoder.fit(y)\n",
    "    encoded_y = encoder.transform(y)\n",
    "    # convert integers to dummy variables (i.e. one hot encoded)\n",
    "    dummy_y = np_utils.to_categorical(encoded_y)\n",
    "    return dummy_y\n",
    "\n",
    "y_tr_dummy = dummy_y(y_train_orig)\n",
    "y_val_dummy = dummy_y(y_valid_orig)"
   ]
  },
  {
   "cell_type": "code",
   "execution_count": 38,
   "metadata": {},
   "outputs": [
    {
     "name": "stdout",
     "output_type": "stream",
     "text": [
      "CPU times: user 14.7 s, sys: 3.7 s, total: 18.4 s\n",
      "Wall time: 7.58 s\n"
     ]
    }
   ],
   "source": [
    "%%time \n",
    "hist = model.fit(X_tr_list, y_tr_dummy, batch_size=60, epochs=20, class_weight=class_weight,\n",
    "                 verbose=0, validation_data=(X_val_list, y_val_dummy))"
   ]
  },
  {
   "cell_type": "code",
   "execution_count": 39,
   "metadata": {},
   "outputs": [
    {
     "name": "stdout",
     "output_type": "stream",
     "text": [
      "dict_keys(['val_loss', 'val_acc', 'loss', 'acc'])\n"
     ]
    }
   ],
   "source": [
    "print(hist.history.keys())"
   ]
  },
  {
   "cell_type": "code",
   "execution_count": 40,
   "metadata": {},
   "outputs": [],
   "source": [
    "plt.rcParams['figure.figsize'] = [12, 8]\n",
    "plt.style.use('seaborn-whitegrid')\n",
    "matplotlib.rc('xtick', labelsize=11) \n",
    "matplotlib.rc('ytick', labelsize=11) "
   ]
  },
  {
   "cell_type": "code",
   "execution_count": 41,
   "metadata": {},
   "outputs": [
    {
     "data": {
      "image/png": "[encoded data removed]",
      "text/plain": [
       "<Figure size 936x432 with 2 Axes>"
      ]
     },
     "metadata": {},
     "output_type": "display_data"
    }
   ],
   "source": [
    "# summarize history for accuracy\n",
    "fig = plt.figure(figsize=(13,6))\n",
    "fig.add_subplot(121)\n",
    "plt.plot(hist.history['acc'], color='skyblue')\n",
    "plt.plot(hist.history['val_acc'], color='olivedrab')\n",
    "plt.title('model accuracy', fontsize=14)\n",
    "plt.ylabel('accuracy', fontsize=12)\n",
    "plt.xlabel('epoch')\n",
    "plt.legend(['train', 'test'], loc='upper left')\n",
    "\n",
    "# summarize history for loss\n",
    "fig.add_subplot(122)\n",
    "plt.plot(hist.history['loss'], color='skyblue')\n",
    "plt.plot(hist.history['val_loss'], color='olivedrab')\n",
    "plt.title('model loss', fontsize=14)\n",
    "plt.ylabel('loss', fontsize=12)\n",
    "plt.xlabel('epoch', fontsize=12)\n",
    "plt.legend(['train', 'test'], loc='lower left')\n",
    "plt.savefig('../Figs/learning_curve.pdf', dpi=300)"
   ]
  },
  {
   "cell_type": "markdown",
   "metadata": {},
   "source": [
    "### Test\n",
    "\n",
    "In order to have a better judgment on the model performance, we tested our model on the test dataset updating every minute."
   ]
  },
  {
   "cell_type": "code",
   "execution_count": 42,
   "metadata": {},
   "outputs": [],
   "source": [
    "pred = []\n",
    "for i in range(61,61+1338):\n",
    "    X_te_list = []\n",
    "    ins = dft.iloc[i:i+1,:]\n",
    "    cat_map_test = cat_preproc(ins)\n",
    "    contin_map_test = contin_preproc(ins)\n",
    "    X_te = cat_map_test\n",
    "    X_te_list =  [X_te[:, -3].reshape(-1, 1), X_te[:, -2].reshape(-1, 1), \n",
    "               X_te[:, -1].reshape(-1, 1), contin_map_test.reshape(-1, 39)]\n",
    "    pred_prob = model.predict(X_te_list)\n",
    "    pred.append(np.argmax(pred_prob,axis=1))"
   ]
  },
  {
   "cell_type": "code",
   "execution_count": 43,
   "metadata": {},
   "outputs": [],
   "source": [
    "prediction = list(map(int, pred))\n",
    "truth = y2[61:61+1338]"
   ]
  },
  {
   "cell_type": "code",
   "execution_count": 44,
   "metadata": {},
   "outputs": [
    {
     "data": {
      "text/plain": [
       "set()"
      ]
     },
     "execution_count": 44,
     "metadata": {},
     "output_type": "execute_result"
    }
   ],
   "source": [
    "set(truth) - set(prediction)"
   ]
  },
  {
   "cell_type": "code",
   "execution_count": 45,
   "metadata": {},
   "outputs": [
    {
     "name": "stdout",
     "output_type": "stream",
     "text": [
      "deep model score is: 0.34735\n"
     ]
    }
   ],
   "source": [
    "print('deep model score is: {}'.format(np.around(f1_score(truth, prediction, average='weighted'), decimals=5)))"
   ]
  },
  {
   "cell_type": "markdown",
   "metadata": {},
   "source": [
    "Poor performance! Unfortunately, 10000 samples is not enough to learn meaningful features especially when we have a Deep Neural Network. I tried to make simpler architectures but, even that did not improve model performance significantly."
   ]
  },
  {
   "cell_type": "code",
   "execution_count": null,
   "metadata": {},
   "outputs": [],
   "source": []
  },
  {
   "cell_type": "code",
   "execution_count": null,
   "metadata": {},
   "outputs": [],
   "source": []
  }
 ],
 "metadata": {
  "kernelspec": {
   "display_name": "Python [conda env:deeplearning]",
   "language": "python",
   "name": "conda-env-deeplearning-py"
  },
  "language_info": {
   "codemirror_mode": {
    "name": "ipython",
    "version": 3
   },
   "file_extension": ".py",
   "mimetype": "text/x-python",
   "name": "python",
   "nbconvert_exporter": "python",
   "pygments_lexer": "ipython3",
   "version": "3.6.5"
  }
 },
 "nbformat": 4,
 "nbformat_minor": 2
}
